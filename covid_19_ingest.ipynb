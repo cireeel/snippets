{
 "cells": [
  {
   "cell_type": "markdown",
   "metadata": {},
   "source": [
    "## COVID-19 Ingestion Pipeline"
   ]
  },
  {
   "cell_type": "markdown",
   "metadata": {},
   "source": [
    "### Step 1: get COVID-19 dataset and copy daily report files to GCP bucket (Skip this step)"
   ]
  },
  {
   "cell_type": "code",
   "execution_count": null,
   "metadata": {},
   "outputs": [],
   "source": [
    "bucket_name = \"covid-19-csv\""
   ]
  },
  {
   "cell_type": "code",
   "execution_count": null,
   "metadata": {},
   "outputs": [],
   "source": [
    "!git clone https://github.com/CSSEGISandData/COVID-19.git"
   ]
  },
  {
   "cell_type": "code",
   "execution_count": null,
   "metadata": {},
   "outputs": [],
   "source": [
    "!gsutil cp COVID-19/csse_covid_19_data/csse_covid_19_daily_reports/01-*.csv gs://{bucket_name}/01-22-to-03-21"
   ]
  },
  {
   "cell_type": "code",
   "execution_count": null,
   "metadata": {},
   "outputs": [],
   "source": [
    "!gsutil cp COVID-19/csse_covid_19_data/csse_covid_19_daily_reports/02-*.csv gs://{bucket_name}/01-22-to-03-21"
   ]
  },
  {
   "cell_type": "code",
   "execution_count": null,
   "metadata": {},
   "outputs": [],
   "source": [
    "!gsutil cp COVID-19/csse_covid_19_data/csse_covid_19_daily_reports/03-0*.csv gs://{bucket_name}/01-22-to-03-21"
   ]
  },
  {
   "cell_type": "code",
   "execution_count": null,
   "metadata": {},
   "outputs": [],
   "source": [
    "!gsutil cp COVID-19/csse_covid_19_data/csse_covid_19_daily_reports/03-1*.csv gs://{bucket_name}/01-22-to-03-21"
   ]
  },
  {
   "cell_type": "code",
   "execution_count": null,
   "metadata": {},
   "outputs": [],
   "source": [
    "!gsutil cp COVID-19/csse_covid_19_data/csse_covid_19_daily_reports/03-20-2020.csv gs://{bucket_name}/01-22-to-03-21"
   ]
  },
  {
   "cell_type": "code",
   "execution_count": null,
   "metadata": {},
   "outputs": [],
   "source": [
    "!gsutil cp COVID-19/csse_covid_19_data/csse_covid_19_daily_reports/03-21-2020.csv gs://{bucket_name}/01-22-to-03-21"
   ]
  },
  {
   "cell_type": "code",
   "execution_count": null,
   "metadata": {},
   "outputs": [],
   "source": [
    "!gsutil cp COVID-19/csse_covid_19_data/csse_covid_19_daily_reports/03-22-2020.csv gs://{bucket_name}/03-22-to-now"
   ]
  },
  {
   "cell_type": "code",
   "execution_count": null,
   "metadata": {},
   "outputs": [],
   "source": [
    "!gsutil cp COVID-19/csse_covid_19_data/csse_covid_19_daily_reports/03-23-2020.csv gs://{bucket_name}/03-22-to-now"
   ]
  },
  {
   "cell_type": "code",
   "execution_count": null,
   "metadata": {},
   "outputs": [],
   "source": [
    "!gsutil cp COVID-19/csse_covid_19_data/csse_covid_19_daily_reports/03-24-2020.csv gs://{bucket_name}/03-22-to-now"
   ]
  },
  {
   "cell_type": "code",
   "execution_count": null,
   "metadata": {},
   "outputs": [],
   "source": [
    "!gsutil cp COVID-19/csse_covid_19_data/csse_covid_19_daily_reports/03-25-2020.csv gs://{bucket_name}/03-22-to-now"
   ]
  },
  {
   "cell_type": "code",
   "execution_count": null,
   "metadata": {},
   "outputs": [],
   "source": [
    "!gsutil cp COVID-19/csse_covid_19_data/csse_covid_19_daily_reports/03-26-2020.csv gs://{bucket_name}/03-22-to-now"
   ]
  },
  {
   "cell_type": "code",
   "execution_count": null,
   "metadata": {},
   "outputs": [],
   "source": [
    "!gsutil cp COVID-19/csse_covid_19_data/csse_covid_19_daily_reports/03-27-2020.csv gs://{bucket_name}/03-22-to-now"
   ]
  },
  {
   "cell_type": "code",
   "execution_count": null,
   "metadata": {},
   "outputs": [],
   "source": [
    "!gsutil cp COVID-19/csse_covid_19_data/csse_covid_19_daily_reports/03-28-2020.csv gs://{bucket_name}/03-22-to-now"
   ]
  },
  {
   "cell_type": "code",
   "execution_count": null,
   "metadata": {},
   "outputs": [],
   "source": [
    "!gsutil cp COVID-19/csse_covid_19_data/csse_covid_19_daily_reports/03-29-2020.csv gs://{bucket_name}/03-22-to-now"
   ]
  },
  {
   "cell_type": "code",
   "execution_count": null,
   "metadata": {},
   "outputs": [],
   "source": [
    "!gsutil cp COVID-19/csse_covid_19_data/csse_covid_19_daily_reports/03-3*.csv gs://{bucket_name}/03-22-to-now"
   ]
  },
  {
   "cell_type": "code",
   "execution_count": null,
   "metadata": {},
   "outputs": [],
   "source": [
    "!gsutil cp COVID-19/csse_covid_19_data/csse_covid_19_daily_reports/04-*.csv gs://{bucket_name}/03-22-to-now"
   ]
  },
  {
   "cell_type": "markdown",
   "metadata": {},
   "source": [
    "### Step 2: load files into BQ (Start from here)"
   ]
  },
  {
   "cell_type": "code",
   "execution_count": null,
   "metadata": {},
   "outputs": [],
   "source": [
    "dataset_id = \"covid_19_staging\""
   ]
  },
  {
   "cell_type": "code",
   "execution_count": null,
   "metadata": {},
   "outputs": [],
   "source": [
    "!bq --location=US mk --dataset {dataset_id}"
   ]
  },
  {
   "cell_type": "code",
   "execution_count": null,
   "metadata": {},
   "outputs": [],
   "source": [
    "!bq --location=US load --skip_leading_rows=1 --allow_jagged_rows=true --source_format=CSV {dataset_id}.Winter_Cases \\\n",
    "gs://covid-19-csv/01-22-to-03-21/*.csv \\\n",
    "state:STRING,country:STRING,last_update:STRING,confirmed:INTEGER,deaths:INTEGER,recovered:INTEGER,latitude:NUMERIC,longitude:NUMERIC"
   ]
  },
  {
   "cell_type": "code",
   "execution_count": null,
   "metadata": {},
   "outputs": [],
   "source": [
    "!bq --location=US load --skip_leading_rows=1 --allow_jagged_rows=true --source_format=CSV {dataset_id}.Spring_Cases \\\n",
    "gs://covid-19-csv/03-22-to-now/*.csv \\\n",
    "fips:INTEGER,admin2:String,state:STRING,country:STRING,last_update:STRING,latitude:STRING,longitude:STRING,confirmed:INTEGER,deaths:INTEGER,recovered:INTEGER,active:INTEGER,combined_key:STRING"
   ]
  },
  {
   "cell_type": "markdown",
   "metadata": {},
   "source": [
    "### Step 3: Validate load"
   ]
  },
  {
   "cell_type": "code",
   "execution_count": null,
   "metadata": {},
   "outputs": [],
   "source": [
    "%%bigquery\n",
    "select count(*) as winter_cases from covid_19_staging.Winter_Cases"
   ]
  },
  {
   "cell_type": "code",
   "execution_count": null,
   "metadata": {},
   "outputs": [],
   "source": [
    "%%bigquery\n",
    "select count(*) as spring_cases from covid_19_staging.Spring_Cases"
   ]
  },
  {
   "cell_type": "markdown",
   "metadata": {},
   "source": [
    "#### Task 1: Retrieve some sample records from both tables"
   ]
  },
  {
   "cell_type": "code",
   "execution_count": null,
   "metadata": {},
   "outputs": [],
   "source": []
  },
  {
   "cell_type": "code",
   "execution_count": null,
   "metadata": {},
   "outputs": [],
   "source": []
  },
  {
   "cell_type": "code",
   "execution_count": null,
   "metadata": {},
   "outputs": [],
   "source": [
    "%%bigquery\n",
    "select min(last_update) as oldest_timestamp, max(last_update) as newest_timestamp\n",
    "from covid_19_staging.Winter_Cases"
   ]
  },
  {
   "cell_type": "code",
   "execution_count": null,
   "metadata": {},
   "outputs": [],
   "source": [
    "%%bigquery\n",
    "select min(last_update) as oldest_timestamp, max(last_update) as newest_timestamp\n",
    "from covid_19_staging.Spring_Cases"
   ]
  },
  {
   "cell_type": "markdown",
   "metadata": {},
   "source": [
    "#### List number of records per timestamp"
   ]
  },
  {
   "cell_type": "code",
   "execution_count": null,
   "metadata": {},
   "outputs": [],
   "source": [
    "%%bigquery\n",
    "select last_update as timestamp, count(*) as number_of_records\n",
    "from covid_19_staging.Winter_Cases\n",
    "group by last_update\n",
    "order by last_update \n",
    "limit 10"
   ]
  },
  {
   "cell_type": "code",
   "execution_count": null,
   "metadata": {},
   "outputs": [],
   "source": [
    "%%bigquery\n",
    "select last_update as timestamp, count(*) as number_of_records\n",
    "from covid_19_staging.Spring_Cases\n",
    "group by last_update\n",
    "order by last_update \n",
    "limit 10"
   ]
  },
  {
   "cell_type": "markdown",
   "metadata": {},
   "source": [
    "#### Task 2: Describe the two table schemas"
   ]
  },
  {
   "cell_type": "code",
   "execution_count": null,
   "metadata": {},
   "outputs": [],
   "source": []
  },
  {
   "cell_type": "code",
   "execution_count": null,
   "metadata": {},
   "outputs": [],
   "source": []
  },
  {
   "cell_type": "markdown",
   "metadata": {},
   "source": [
    "#### Task 3: Merge the two tables"
   ]
  },
  {
   "cell_type": "code",
   "execution_count": null,
   "metadata": {},
   "outputs": [],
   "source": [
    "%%bigquery\n",
    "create table covid_19_staging.Cases\n",
    "(fips INT64,\n",
    "admin2 String,\n",
    "state STRING,\n",
    "country STRING,\n",
    "last_update STRING,\n",
    "latitude NUMERIC,\n",
    "longitude NUMERIC,\n",
    "confirmed INT64,\n",
    "deaths INT64,\n",
    "recovered INT64,\n",
    "active INT64,\n",
    "combined_key STRING); "
   ]
  },
  {
   "cell_type": "code",
   "execution_count": null,
   "metadata": {},
   "outputs": [],
   "source": []
  },
  {
   "cell_type": "code",
   "execution_count": null,
   "metadata": {},
   "outputs": [],
   "source": []
  }
 ],
 "metadata": {
  "kernelspec": {
   "display_name": "Python 3",
   "language": "python",
   "name": "python3"
  },
  "language_info": {
   "codemirror_mode": {
    "name": "ipython",
    "version": 3
   },
   "file_extension": ".py",
   "mimetype": "text/x-python",
   "name": "python",
   "nbconvert_exporter": "python",
   "pygments_lexer": "ipython3",
   "version": "3.5.3"
  }
 },
 "nbformat": 4,
 "nbformat_minor": 4
}
